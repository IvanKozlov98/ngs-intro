{
 "cells": [
  {
   "cell_type": "code",
   "execution_count": 6,
   "metadata": {},
   "outputs": [],
   "source": [
    "import pysam\n",
    "import numpy as np\n",
    "from Bio import SeqIO\n",
    "import numpy as np\n",
    "import scipy.stats as ss\n",
    "import pandas as pd"
   ]
  },
  {
   "cell_type": "code",
   "execution_count": 4,
   "metadata": {},
   "outputs": [],
   "source": [
    "# Метод вычислений:\n",
    "# 0.1 ) скорректировал сырые риды с помощью BayesHammer\n",
    "# 0.2 ) выровнил исходные(с ошибками) риды на геном, а затем исправленные\n",
    "# 1) последовательно просматриваю пары вида error_read, corrected_read (ореинтируясь на read_id) на некоторый участок генома\n",
    "#    и вычисляю значения из таблицы для позиции i в ридах следующим образом:\n",
    "#        undetected_error - считаю, если значение base в error_read, corrected_read не совпадает с геномом и при этом равны между собой\n",
    "#        incorectly_removed_base - считаю, если в error_read ошибки нет, а в corrected_read стоит буква 'N'\n",
    "#        falsely_corrected_error - считаю, если в error_read ошибки нет, а в corrected_read стоит буква отличная от буквы в геноме (не 'N')\n",
    "#        detected_and_corrected_error - считаю, если в error_read была ошибка, а в corrected_error её нет\n",
    "#        detected_and_removed_error - считаю, если в error_read была ошибка, а в corrected_error и в геноме стоит буква 'N'\n",
    "#        correctly_unmodified_base - считаю, если в error_read и в corrected_read не было ошибки"
   ]
  },
  {
   "cell_type": "code",
   "execution_count": 5,
   "metadata": {},
   "outputs": [
    {
     "name": "stdout",
     "output_type": "stream",
     "text": [
      "[bwa_index] Pack FASTA... 0.01 sec\n",
      "[bwa_index] Construct BWT for the packed sequence...\n",
      "[bwa_index] 0.18 seconds elapse.\n",
      "[bwa_index] Update BWT... 0.01 sec\n",
      "[bwa_index] Pack forward-only FASTA... 0.01 sec\n",
      "[bwa_index] Construct SA from BWT and Occ... 0.07 sec\n",
      "[main] Version: 0.7.17-r1188\n",
      "[main] CMD: bwa index data/MG1655-K12.first400K.fasta\n",
      "[main] Real time: 0.660 sec; CPU: 0.290 sec\n"
     ]
    }
   ],
   "source": [
    "!bwa index data/MG1655-K12.first400K.fasta"
   ]
  },
  {
   "cell_type": "code",
   "execution_count": null,
   "metadata": {},
   "outputs": [],
   "source": [
    "# align error reads \n",
    "!bwa mem data/MG1655-K12.first400K.fasta data/ecoli_400K_err_1.fastq data/ecoli_400K_err_2.fastq >data/ecoli_err_400K.sam"
   ]
  },
  {
   "cell_type": "code",
   "execution_count": 2,
   "metadata": {},
   "outputs": [
    {
     "name": "stdout",
     "output_type": "stream",
     "text": [
      "2763204 + 0 in total (QC-passed reads + QC-failed reads)\r\n",
      "0 + 0 secondary\r\n",
      "0 + 0 supplementary\r\n",
      "0 + 0 duplicates\r\n",
      "2762617 + 0 mapped (99.98% : N/A)\r\n",
      "2763204 + 0 paired in sequencing\r\n",
      "1381602 + 0 read1\r\n",
      "1381602 + 0 read2\r\n",
      "2760820 + 0 properly paired (99.91% : N/A)\r\n",
      "2762132 + 0 with itself and mate mapped\r\n",
      "485 + 0 singletons (0.02% : N/A)\r\n",
      "0 + 0 with mate mapped to a different chr\r\n",
      "0 + 0 with mate mapped to a different chr (mapQ>=5)\r\n"
     ]
    }
   ],
   "source": [
    "!samtools flagstat data/ecoli_err_400K.sam"
   ]
  },
  {
   "cell_type": "code",
   "execution_count": null,
   "metadata": {},
   "outputs": [],
   "source": [
    "!spades.py --only-error-correction -1 data/ecoli_400K_err_1.fastq -2 data/ecoli_400K_err_2.fastq -o data/output_spades/"
   ]
  },
  {
   "cell_type": "code",
   "execution_count": null,
   "metadata": {},
   "outputs": [],
   "source": [
    "# align corrected reads \n",
    "# !gzip -d data/output_spades/*.gz\n",
    "!bwa mem data/MG1655-K12.first400K.fasta data/output_spades/corrected/ecoli_400K_err_1.00.0_0.cor.fastq data/output_spades/corrected/ecoli_400K_err_2.00.0_0.cor.fastq >data/ecoli_cor_400K.sam"
   ]
  },
  {
   "cell_type": "code",
   "execution_count": 3,
   "metadata": {},
   "outputs": [
    {
     "name": "stdout",
     "output_type": "stream",
     "text": [
      "2716054 + 0 in total (QC-passed reads + QC-failed reads)\r\n",
      "0 + 0 secondary\r\n",
      "0 + 0 supplementary\r\n",
      "0 + 0 duplicates\r\n",
      "2715944 + 0 mapped (100.00% : N/A)\r\n",
      "2716054 + 0 paired in sequencing\r\n",
      "1358027 + 0 read1\r\n",
      "1358027 + 0 read2\r\n",
      "2714586 + 0 properly paired (99.95% : N/A)\r\n",
      "2715876 + 0 with itself and mate mapped\r\n",
      "68 + 0 singletons (0.00% : N/A)\r\n",
      "0 + 0 with mate mapped to a different chr\r\n",
      "0 + 0 with mate mapped to a different chr (mapQ>=5)\r\n"
     ]
    }
   ],
   "source": [
    "!samtools flagstat data/ecoli_cor_400K.sam"
   ]
  },
  {
   "cell_type": "code",
   "execution_count": 7,
   "metadata": {},
   "outputs": [],
   "source": [
    "def get_genome_seq(path):\n",
    "    return next(SeqIO.parse(path, \"fasta\")).seq\n",
    "\n",
    "def is_skip_processing_reads(error_read, corrected_read):\n",
    "    return (error_read.cigartuples is None or error_read.query_sequence is None\n",
    "            or corrected_read.cigartuples is None or corrected_read.query_sequence is None) \\\n",
    "            or error_read.get_aligned_pairs() != corrected_read.get_aligned_pairs()\n",
    "\n",
    "\n",
    "def get_stats_by_read(error_read, corrected_read, genome):\n",
    "    if is_skip_processing_reads(error_read, corrected_read):\n",
    "        return 0, 0, 0, 0, 0, 0\n",
    "    # aligned_pairs for error and corrected reads are same\n",
    "    aligned_pairs = error_read.get_aligned_pairs()\n",
    "    idx_aligned_pairs = 0\n",
    "    error_query_seq = error_read.query_sequence\n",
    "    corrected_query_seq = corrected_read.query_sequence\n",
    "\n",
    "    # main return values\n",
    "    num_undetected_error = 0\n",
    "    num_falsely_corrected_error = 0\n",
    "    num_detected_and_corrected_error = 0\n",
    "    num_correctly_unmodified_base = 0\n",
    "    num_detected_and_removed_error = 0\n",
    "    num_incorectly_removed_base = 0\n",
    "    #\n",
    "    size_all_blocks = 0\n",
    "    for op, length in error_read.cigartuples:\n",
    "        # skipping hard clipping\n",
    "        if op == 5:\n",
    "            continue\n",
    "\n",
    "        if op == 0 or op == 8:  # match or mismatch\n",
    "            for i in range(idx_aligned_pairs,\n",
    "                           idx_aligned_pairs + length):  # walk by read in which match or mismatch with reference\n",
    "                idx_read = aligned_pairs[i][0]\n",
    "                idx_reference = aligned_pairs[i][1]\n",
    "                char_of_error_read = error_query_seq[idx_read].upper()\n",
    "                char_of_corrected_read = corrected_query_seq[idx_read].upper()\n",
    "                char_of_reference = genome[idx_reference].upper()\n",
    "\n",
    "                # update mismatch stat\n",
    "                if char_of_error_read != char_of_reference: # error in raw data\n",
    "                    if char_of_corrected_read == char_of_error_read:\n",
    "                        num_undetected_error += 1\n",
    "                    if char_of_corrected_read == char_of_reference:\n",
    "                        if char_of_reference == 'N':\n",
    "                            num_detected_and_removed_error += 1\n",
    "                        else:\n",
    "                            num_detected_and_corrected_error += 1\n",
    "                else: # correct base in raw data\n",
    "                    if char_of_corrected_read == char_of_error_read:\n",
    "                        num_correctly_unmodified_base += 1\n",
    "                    if char_of_corrected_read != char_of_error_read:\n",
    "                        if char_of_corrected_read == 'N':\n",
    "                            num_incorectly_removed_base += 1\n",
    "                        else:\n",
    "                            num_falsely_corrected_error += 1\n",
    "\n",
    "        idx_aligned_pairs += length\n",
    "        size_all_blocks += length\n",
    "\n",
    "    return num_undetected_error, num_falsely_corrected_error, num_detected_and_corrected_error, \\\n",
    "           num_correctly_unmodified_base, num_detected_and_removed_error, num_incorectly_removed_base\n",
    "\n",
    "\n",
    "def get_stats(path_sam_corrected, path_sam_error, genome):\n",
    "    samfile_error = pysam.AlignmentFile(path_sam_error, \"rb\")\n",
    "    samfile_corrected = pysam.AlignmentFile(path_sam_corrected, \"rb\")\n",
    "\n",
    "    inner_iterator = samfile_corrected.fetch()\n",
    "    corrected_read = next(inner_iterator)\n",
    "    total_num_undetected_error = 0\n",
    "    total_num_falsely_corrected_error = 0\n",
    "    total_num_detected_and_corrected_error = 0\n",
    "    total_num_correctly_unmodified_base = 0\n",
    "    total_num_detected_and_removed_error = 0\n",
    "    total_num_incorectly_removed_base = 0\n",
    "\n",
    "    try:\n",
    "        for error_read in samfile_error.fetch():\n",
    "            if error_read.query_name is None:\n",
    "                raise RuntimeError(\"These reads have none query_name :(\")\n",
    "            if error_read.query_name != corrected_read.query_name:\n",
    "                continue\n",
    "            # error_read.query_name == corrected_read.query_name\n",
    "            num_ue, num_fc, num_dce, num_cu, num_dr, num_ir = get_stats_by_read(error_read, corrected_read, genome)\n",
    "            total_num_undetected_error += num_ue\n",
    "            total_num_falsely_corrected_error += num_fc\n",
    "            total_num_detected_and_corrected_error += num_dce\n",
    "            total_num_correctly_unmodified_base += num_cu\n",
    "            total_num_detected_and_removed_error += num_dr\n",
    "            total_num_incorectly_removed_base += num_ir\n",
    "            corrected_read = next(inner_iterator)\n",
    "\n",
    "    except StopIteration:\n",
    "        pass\n",
    "\n",
    "    samfile_error.close()\n",
    "    samfile_corrected.close()\n",
    "    return total_num_undetected_error, total_num_falsely_corrected_error, total_num_detected_and_corrected_error, \\\n",
    "           total_num_correctly_unmodified_base, total_num_detected_and_removed_error, total_num_incorectly_removed_base"
   ]
  },
  {
   "cell_type": "code",
   "execution_count": 8,
   "metadata": {},
   "outputs": [
    {
     "name": "stdout",
     "output_type": "stream",
     "text": [
      "Number of undetected errors: 136309\n",
      "Number of falsely corrected errors: 144\n",
      "Number of detected and corrected errors: 490385\n",
      "Number of correctly unmodified bases: 178481047\n",
      "Number of detected and removed_errors: 0\n",
      "Number of incorectly removed bases: 378482\n"
     ]
    }
   ],
   "source": [
    "genome_seq = get_genome_seq(\"data/MG1655-K12.first400K.fasta\")\n",
    "num_ue, num_fc, num_dce, num_cu, num_dr, num_ir = get_stats(\"data/ecoli_cor_400K.sam\", \"data/ecoli_err_400K.sam\", genome_seq)\n",
    "print(\"Number of undetected errors:\", num_ue)\n",
    "print(\"Number of falsely corrected errors:\", num_fc)\n",
    "print(\"Number of detected and corrected errors:\", num_dce)\n",
    "print(\"Number of correctly unmodified bases:\", num_cu)\n",
    "print(\"Number of detected and removed_errors:\", num_dr)\n",
    "print(\"Number of incorectly removed bases:\", num_ir)"
   ]
  }
 ],
 "metadata": {
  "kernelspec": {
   "display_name": "Python 3",
   "language": "python",
   "name": "python3"
  },
  "language_info": {
   "codemirror_mode": {
    "name": "ipython",
    "version": 3
   },
   "file_extension": ".py",
   "mimetype": "text/x-python",
   "name": "python",
   "nbconvert_exporter": "python",
   "pygments_lexer": "ipython3",
   "version": "3.8.2"
  }
 },
 "nbformat": 4,
 "nbformat_minor": 4
}
