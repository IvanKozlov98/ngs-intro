{
 "cells": [
  {
   "cell_type": "markdown",
   "metadata": {},
   "source": [
    "# Домашняя работа №1"
   ]
  },
  {
   "cell_type": "code",
   "execution_count": 1,
   "metadata": {},
   "outputs": [],
   "source": [
    "%matplotlib inline\n",
    "from Bio import SeqIO\n",
    "import gzip\n",
    "import seaborn as sns\n",
    "import numpy as np\n",
    "import matplotlib.pyplot as plt"
   ]
  },
  {
   "cell_type": "markdown",
   "metadata": {},
   "source": [
    "Константы:"
   ]
  },
  {
   "cell_type": "code",
   "execution_count": 2,
   "metadata": {},
   "outputs": [],
   "source": [
    "MIN_BOUND_SCORE = 20 # nucl with score less than 20 we label as bad\n",
    "MAX_PERCENT_NUCL_WITH_BAD_SCORE = 50.0 # we will assume that read that consist more than 50% bad nucls as bad "
   ]
  },
  {
   "cell_type": "markdown",
   "metadata": {},
   "source": [
    "Вспомогательные функции"
   ]
  },
  {
   "cell_type": "code",
   "execution_count": 3,
   "metadata": {},
   "outputs": [],
   "source": [
    "\"\"\"\n",
    ":returns True if many bad nucleotides, False -- otherwise\n",
    "\"\"\"\n",
    "def is_bad_read(quality_scores):\n",
    "    cnt_bad_nucl = sum(1 for score in quality_scores if is_bad_score(score))\n",
    "    percent_bad_scores = float(cnt_bad_nucl) / float(len(quality_scores))\n",
    "    return percent_bad_scores >= MAX_PERCENT_NUCL_WITH_BAD_SCORE"
   ]
  },
  {
   "cell_type": "code",
   "execution_count": 4,
   "metadata": {},
   "outputs": [],
   "source": [
    "\"\"\"\n",
    ":returns True if nucl is bad quality, False -- otherwise\n",
    "\"\"\"\n",
    "def is_bad_score(score):\n",
    "    return score < MIN_BOUND_SCORE"
   ]
  },
  {
   "cell_type": "code",
   "execution_count": 5,
   "metadata": {},
   "outputs": [],
   "source": [
    "\"\"\"\n",
    ":returns percent of norm gc content\n",
    "\"\"\"\n",
    "def get_gc_percent(seq, quality_scores):\n",
    "    # score in [0, 42]\n",
    "    cnt_gc_nucls = sum(1 for (i, nucl) in enumerate(seq)\n",
    "                       if (nucl == 'G' or nucl == 'C') and (not is_bad_score(quality_scores[i])))\n",
    "    return float(cnt_gc_nucls) / float(len(seq))"
   ]
  },
  {
   "cell_type": "code",
   "execution_count": 6,
   "metadata": {},
   "outputs": [],
   "source": [
    "def get_stat(handle, len_read, MAX_Q=126, type_quality = \"phred_quality\", num_reads=None):\n",
    "    percent_gc_to_number_reads = 101 * [0]\n",
    "    pos_to_sum_prob_error = len_read * [0]\n",
    "    logQs = [10 ** (float(-Q) / 10) for Q in range(MAX_Q + 1)] # Precompute probs\n",
    "    total_norm_reads = 0\n",
    "    for record in SeqIO.parse(handle, \"fastq\"):\n",
    "        seq, quality_scores = record.seq, record.letter_annotations[type_quality]\n",
    "        if is_bad_read(quality_scores): # don't consider bad reads\n",
    "            continue\n",
    "\n",
    "        total_norm_reads += 1\n",
    "        if total_norm_reads % 100000 == 0 and num_reads is not None: # log\n",
    "            print(f'{total_norm_reads} / {num_reads}')\n",
    "        gc_percent = get_gc_percent(seq, quality_scores)\n",
    "        percent_gc_to_number_reads[int(round(gc_percent * 100))] += 1\n",
    "\n",
    "        for (i, score) in enumerate(quality_scores):\n",
    "            pos_to_sum_prob_error[i] += logQs[score] # accumulate probs by each position\n",
    "    \n",
    "    pos_to_prob_error = list(map(lambda x: x / float(total_norm_reads), pos_to_sum_prob_error)) # calc mean as sum/num\n",
    "    return (percent_gc_to_number_reads, pos_to_prob_error)"
   ]
  },
  {
   "cell_type": "code",
   "execution_count": 7,
   "metadata": {},
   "outputs": [
    {
     "name": "stdout",
     "output_type": "stream",
     "text": [
      "100000 / 2500000\n",
      "200000 / 2500000\n",
      "300000 / 2500000\n",
      "400000 / 2500000\n",
      "500000 / 2500000\n",
      "600000 / 2500000\n",
      "700000 / 2500000\n",
      "800000 / 2500000\n",
      "900000 / 2500000\n",
      "1000000 / 2500000\n",
      "1100000 / 2500000\n",
      "1200000 / 2500000\n",
      "1300000 / 2500000\n",
      "1400000 / 2500000\n",
      "1500000 / 2500000\n",
      "1600000 / 2500000\n",
      "1700000 / 2500000\n",
      "1800000 / 2500000\n",
      "1900000 / 2500000\n",
      "2000000 / 2500000\n",
      "2100000 / 2500000\n",
      "2200000 / 2500000\n",
      "2300000 / 2500000\n",
      "2400000 / 2500000\n",
      "2500000 / 2500000\n"
     ]
    }
   ],
   "source": [
    "filename1 = '/home/ivankozlov98/Learning/NGS/Homeworks/Hw1/data/100x.1.fastq'\n",
    "with open(filename1) as handle:\n",
    "    percent_gc_to_number_reads1, pos_to_prob_error1 = get_stat(handle, 100, num_reads=2500000)"
   ]
  },
  {
   "cell_type": "code",
   "execution_count": 8,
   "metadata": {},
   "outputs": [
    {
     "name": "stdout",
     "output_type": "stream",
     "text": [
      "100000 / 2500000\n",
      "200000 / 2500000\n",
      "300000 / 2500000\n",
      "400000 / 2500000\n",
      "500000 / 2500000\n",
      "600000 / 2500000\n",
      "700000 / 2500000\n",
      "800000 / 2500000\n",
      "900000 / 2500000\n",
      "1000000 / 2500000\n",
      "1100000 / 2500000\n",
      "1200000 / 2500000\n",
      "1300000 / 2500000\n",
      "1400000 / 2500000\n",
      "1500000 / 2500000\n",
      "1600000 / 2500000\n",
      "1700000 / 2500000\n",
      "1800000 / 2500000\n",
      "1900000 / 2500000\n",
      "2000000 / 2500000\n",
      "2100000 / 2500000\n",
      "2200000 / 2500000\n",
      "2300000 / 2500000\n",
      "2400000 / 2500000\n",
      "2500000 / 2500000\n"
     ]
    }
   ],
   "source": [
    "filename2 = '/home/ivankozlov98/Learning/NGS/Homeworks/Hw1/data/100x.2.fastq'\n",
    "with open(filename2) as handle:\n",
    "    percent_gc_to_number_reads2, pos_to_prob_error2 = get_stat(handle, 100, num_reads=2500000)"
   ]
  },
  {
   "cell_type": "code",
   "execution_count": null,
   "metadata": {},
   "outputs": [],
   "source": []
  },
  {
   "cell_type": "markdown",
   "metadata": {},
   "source": [
    "### Строим графики"
   ]
  },
  {
   "cell_type": "markdown",
   "metadata": {},
   "source": [
    "#### 100x.1"
   ]
  },
  {
   "cell_type": "markdown",
   "metadata": {},
   "source": [
    "##### Sequence quality"
   ]
  },
  {
   "cell_type": "markdown",
   "metadata": {},
   "source": [
    "График, построенный `fastqc`\n",
    "\n",
    "\n",
    "```Per base sequence quality```"
   ]
  },
  {
   "cell_type": "markdown",
   "metadata": {},
   "source": [
    "![jupyter](./per_base_sq_1.png)"
   ]
  },
  {
   "cell_type": "code",
   "execution_count": 9,
   "metadata": {},
   "outputs": [
    {
     "data": {
      "image/png": "[encoded data removed]",
      "text/plain": [
       "<Figure size 432x288 with 1 Axes>"
      ]
     },
     "metadata": {
      "needs_background": "light"
     },
     "output_type": "display_data"
    }
   ],
   "source": [
    "x = np.arange(len(pos_to_prob_error1))\n",
    "y = pos_to_prob_error1\n",
    "plt.plot(x, y)\n",
    "plt.show()"
   ]
  },
  {
   "cell_type": "markdown",
   "metadata": {},
   "source": [
    "Видно: что на графике `Per base sequence quality`, что на полученном одинаково проиллюстрировано падение качества секвенирования на концах ридов"
   ]
  },
  {
   "cell_type": "markdown",
   "metadata": {},
   "source": [
    "##### GC content"
   ]
  },
  {
   "cell_type": "markdown",
   "metadata": {},
   "source": [
    "![jupyter](./gc_1.png)"
   ]
  },
  {
   "cell_type": "code",
   "execution_count": 10,
   "metadata": {},
   "outputs": [
    {
     "data": {
      "image/png": "[encoded data removed]",
      "text/plain": [
       "<Figure size 432x288 with 1 Axes>"
      ]
     },
     "metadata": {
      "needs_background": "light"
     },
     "output_type": "display_data"
    }
   ],
   "source": [
    "num_points = len(percent_gc_to_number_reads1)\n",
    "x = np.arange(num_points)\n",
    "y = percent_gc_to_number_reads1\n",
    "plt.plot(x, y)\n",
    "plt.show()"
   ]
  },
  {
   "cell_type": "markdown",
   "metadata": {},
   "source": [
    "#### 100x.2"
   ]
  },
  {
   "cell_type": "markdown",
   "metadata": {},
   "source": [
    "Всё -- аналогично 100x.1"
   ]
  },
  {
   "cell_type": "markdown",
   "metadata": {},
   "source": [
    "##### Sequence quality"
   ]
  },
  {
   "cell_type": "markdown",
   "metadata": {},
   "source": [
    "![jupyter](./per_base_sq_2.png)"
   ]
  },
  {
   "cell_type": "code",
   "execution_count": 11,
   "metadata": {},
   "outputs": [
    {
     "data": {
      "image/png": "[encoded data removed]",
      "text/plain": [
       "<Figure size 432x288 with 1 Axes>"
      ]
     },
     "metadata": {
      "needs_background": "light"
     },
     "output_type": "display_data"
    }
   ],
   "source": [
    "x = np.arange(len(pos_to_prob_error2))\n",
    "y = pos_to_prob_error2\n",
    "plt.plot(x, y)\n",
    "plt.show()"
   ]
  },
  {
   "cell_type": "markdown",
   "metadata": {},
   "source": [
    "##### GC content"
   ]
  },
  {
   "cell_type": "markdown",
   "metadata": {},
   "source": [
    "![jupyter](./gc_1.png)"
   ]
  },
  {
   "cell_type": "code",
   "execution_count": 12,
   "metadata": {},
   "outputs": [
    {
     "data": {
      "image/png": "[encoded data removed]",
      "text/plain": [
       "<Figure size 432x288 with 1 Axes>"
      ]
     },
     "metadata": {
      "needs_background": "light"
     },
     "output_type": "display_data"
    }
   ],
   "source": [
    "num_points = len(percent_gc_to_number_reads2)\n",
    "x = np.arange(num_points)\n",
    "y = percent_gc_to_number_reads2\n",
    "plt.plot(x, y)\n",
    "plt.show()"
   ]
  },
  {
   "cell_type": "code",
   "execution_count": null,
   "metadata": {},
   "outputs": [],
   "source": []
  },
  {
   "cell_type": "code",
   "execution_count": null,
   "metadata": {},
   "outputs": [],
   "source": []
  }
 ],
 "metadata": {
  "kernelspec": {
   "display_name": "Python 3",
   "language": "python",
   "name": "python3"
  },
  "language_info": {
   "codemirror_mode": {
    "name": "ipython",
    "version": 3
   },
   "file_extension": ".py",
   "mimetype": "text/x-python",
   "name": "python",
   "nbconvert_exporter": "python",
   "pygments_lexer": "ipython3",
   "version": "3.8.2"
  }
 },
 "nbformat": 4,
 "nbformat_minor": 4
}
